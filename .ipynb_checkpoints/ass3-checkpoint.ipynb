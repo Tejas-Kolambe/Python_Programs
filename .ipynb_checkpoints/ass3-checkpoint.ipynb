{
 "cells": [
  {
   "cell_type": "code",
   "execution_count": 1,
   "id": "374db6ae",
   "metadata": {},
   "outputs": [
    {
     "data": {
      "text/plain": [
       "int"
      ]
     },
     "execution_count": 1,
     "metadata": {},
     "output_type": "execute_result"
    }
   ],
   "source": [
    "type(0)"
   ]
  },
  {
   "cell_type": "code",
   "execution_count": 2,
   "id": "b00a29a9",
   "metadata": {},
   "outputs": [
    {
     "data": {
      "text/plain": [
       "float"
      ]
     },
     "execution_count": 2,
     "metadata": {},
     "output_type": "execute_result"
    }
   ],
   "source": [
    "type(0.0)"
   ]
  },
  {
   "cell_type": "code",
   "execution_count": 3,
   "id": "ee755c79",
   "metadata": {},
   "outputs": [
    {
     "data": {
      "text/plain": [
       "str"
      ]
     },
     "execution_count": 3,
     "metadata": {},
     "output_type": "execute_result"
    }
   ],
   "source": [
    "type('A')"
   ]
  },
  {
   "cell_type": "code",
   "execution_count": 4,
   "id": "9ad95409",
   "metadata": {},
   "outputs": [
    {
     "data": {
      "text/plain": [
       "builtin_function_or_method"
      ]
     },
     "execution_count": 4,
     "metadata": {},
     "output_type": "execute_result"
    }
   ],
   "source": [
    "type(print)"
   ]
  },
  {
   "cell_type": "code",
   "execution_count": 5,
   "id": "6e8acbc3",
   "metadata": {},
   "outputs": [
    {
     "data": {
      "text/plain": [
       "complex"
      ]
     },
     "execution_count": 5,
     "metadata": {},
     "output_type": "execute_result"
    }
   ],
   "source": [
    "type(3+3j)"
   ]
  },
  {
   "cell_type": "code",
   "execution_count": 6,
   "id": "7a827fa2",
   "metadata": {},
   "outputs": [
    {
     "data": {
      "text/plain": [
       "bool"
      ]
     },
     "execution_count": 6,
     "metadata": {},
     "output_type": "execute_result"
    }
   ],
   "source": [
    "type(True)"
   ]
  },
  {
   "cell_type": "code",
   "execution_count": null,
   "id": "1435c767",
   "metadata": {},
   "outputs": [],
   "source": []
  },
  {
   "cell_type": "code",
   "execution_count": 7,
   "id": "50ab8eea",
   "metadata": {},
   "outputs": [
    {
     "data": {
      "text/plain": [
       "True"
      ]
     },
     "execution_count": 7,
     "metadata": {},
     "output_type": "execute_result"
    }
   ],
   "source": [
    "isinstance(10,int)"
   ]
  },
  {
   "cell_type": "code",
   "execution_count": 9,
   "id": "454ab1f4",
   "metadata": {},
   "outputs": [
    {
     "data": {
      "text/plain": [
       "False"
      ]
     },
     "execution_count": 9,
     "metadata": {},
     "output_type": "execute_result"
    }
   ],
   "source": [
    "isinstance(10,float)"
   ]
  },
  {
   "cell_type": "code",
   "execution_count": 10,
   "id": "50626310",
   "metadata": {},
   "outputs": [
    {
     "data": {
      "text/plain": [
       "False"
      ]
     },
     "execution_count": 10,
     "metadata": {},
     "output_type": "execute_result"
    }
   ],
   "source": [
    "isinstance(1,bool)"
   ]
  },
  {
   "cell_type": "code",
   "execution_count": 11,
   "id": "64f3ca89",
   "metadata": {},
   "outputs": [
    {
     "data": {
      "text/plain": [
       "False"
      ]
     },
     "execution_count": 11,
     "metadata": {},
     "output_type": "execute_result"
    }
   ],
   "source": [
    "isinstance(0,bool)"
   ]
  },
  {
   "cell_type": "code",
   "execution_count": 12,
   "id": "db1d7102",
   "metadata": {},
   "outputs": [
    {
     "data": {
      "text/plain": [
       "False"
      ]
     },
     "execution_count": 12,
     "metadata": {},
     "output_type": "execute_result"
    }
   ],
   "source": [
    "isinstance(78.8,int)"
   ]
  },
  {
   "cell_type": "code",
   "execution_count": 13,
   "id": "f1bf7da1",
   "metadata": {},
   "outputs": [
    {
     "data": {
      "text/plain": [
       "True"
      ]
     },
     "execution_count": 13,
     "metadata": {},
     "output_type": "execute_result"
    }
   ],
   "source": [
    "isinstance(78.8,float)"
   ]
  },
  {
   "cell_type": "code",
   "execution_count": 14,
   "id": "30f314ca",
   "metadata": {},
   "outputs": [
    {
     "data": {
      "text/plain": [
       "False"
      ]
     },
     "execution_count": 14,
     "metadata": {},
     "output_type": "execute_result"
    }
   ],
   "source": [
    "isinstance(78.8,complex)"
   ]
  },
  {
   "cell_type": "code",
   "execution_count": 15,
   "id": "fa446788",
   "metadata": {},
   "outputs": [
    {
     "data": {
      "text/plain": [
       "True"
      ]
     },
     "execution_count": 15,
     "metadata": {},
     "output_type": "execute_result"
    }
   ],
   "source": [
    "isinstance(True,bool)"
   ]
  },
  {
   "cell_type": "code",
   "execution_count": null,
   "id": "47c5216b",
   "metadata": {},
   "outputs": [],
   "source": []
  },
  {
   "cell_type": "code",
   "execution_count": 16,
   "id": "7381bb33",
   "metadata": {},
   "outputs": [
    {
     "name": "stdout",
     "output_type": "stream",
     "text": [
      "enter roll : 23\n",
      "enter percentage : 81.6\n",
      "enter a complex no : 3+9j\n",
      "enter ur name : Tejas Kolambe\n",
      "23 81.6 (3+9j) Tejas Kolambe\n"
     ]
    }
   ],
   "source": [
    "roll = int(input(\"enter roll : \"))\n",
    "marks = float(input(\"enter percentage : \"))\n",
    "comp = complex(input(\"enter a complex no : \"))\n",
    "name = input(\"enter ur name : \")\n",
    "\n",
    "print(roll,marks,comp,name)"
   ]
  },
  {
   "cell_type": "code",
   "execution_count": 29,
   "id": "3ec94a43",
   "metadata": {},
   "outputs": [
    {
     "name": "stdout",
     "output_type": "stream",
     "text": [
      "0b100\n",
      "0x4\n",
      "0o4\n"
     ]
    }
   ],
   "source": [
    "n=4\n",
    "print(bin(n))\n",
    "print(hex(n))\n",
    "print(oct(n))"
   ]
  },
  {
   "cell_type": "code",
   "execution_count": 18,
   "id": "532e9534",
   "metadata": {},
   "outputs": [
    {
     "data": {
      "text/plain": [
       "4"
      ]
     },
     "execution_count": 18,
     "metadata": {},
     "output_type": "execute_result"
    }
   ],
   "source": [
    "m=0b100\n",
    "int(m)"
   ]
  },
  {
   "cell_type": "code",
   "execution_count": 43,
   "id": "bcf4fe53",
   "metadata": {},
   "outputs": [
    {
     "ename": "SyntaxError",
     "evalue": "invalid digit '6' in binary literal (2106783601.py, line 1)",
     "output_type": "error",
     "traceback": [
      "\u001b[1;36m  Cell \u001b[1;32mIn [43], line 1\u001b[1;36m\u001b[0m\n\u001b[1;33m    k =0b167\u001b[0m\n\u001b[1;37m          ^\u001b[0m\n\u001b[1;31mSyntaxError\u001b[0m\u001b[1;31m:\u001b[0m invalid digit '6' in binary literal\n"
     ]
    }
   ],
   "source": [
    "k =0b167\n",
    "int(k)"
   ]
  },
  {
   "cell_type": "code",
   "execution_count": 37,
   "id": "075aba11",
   "metadata": {},
   "outputs": [
    {
     "data": {
      "text/plain": [
       "119"
      ]
     },
     "execution_count": 37,
     "metadata": {},
     "output_type": "execute_result"
    }
   ],
   "source": [
    "o = '0o167'\n",
    "int(o,8)"
   ]
  },
  {
   "cell_type": "code",
   "execution_count": 38,
   "id": "01bc919f",
   "metadata": {},
   "outputs": [
    {
     "data": {
      "text/plain": [
       "359"
      ]
     },
     "execution_count": 38,
     "metadata": {},
     "output_type": "execute_result"
    }
   ],
   "source": [
    "q = '0x167'\n",
    "int(q,16)"
   ]
  },
  {
   "cell_type": "code",
   "execution_count": 7,
   "id": "6e614771",
   "metadata": {},
   "outputs": [
    {
     "name": "stdout",
     "output_type": "stream",
     "text": [
      "1) convert to binary \n",
      "2) convert to Octal \n",
      "3) convert to Hex \n",
      "enter ur choice 2\n",
      "enter a number 55\n",
      "Octal of 55 is 0o67\n"
     ]
    }
   ],
   "source": [
    "# print('Enter ur choice')\n",
    "print(\"1) convert to binary \")\n",
    "print(\"2) convert to Octal \")\n",
    "print(\"3) convert to Hex \")\n",
    "\n",
    "w = int(input(\"enter ur choice \"))\n",
    "\n",
    "num = int(input(\"enter a number \"))\n",
    "\n",
    "# while (w>0):\n",
    "if w==1:\n",
    "        print(\"Binary of\",num,\"is\",bin(num))\n",
    "elif w==2:\n",
    "        print(\"Octal of\",num,\"is\",oct(num))\n",
    "elif w==3:\n",
    "        print(\"Hex of\",num,\"is\",hex(num))\n",
    "else :\n",
    "        print('invalid')\n",
    "# break        "
   ]
  },
  {
   "cell_type": "code",
   "execution_count": null,
   "id": "161092e2",
   "metadata": {},
   "outputs": [],
   "source": []
  }
 ],
 "metadata": {
  "kernelspec": {
   "display_name": "Python 3 (ipykernel)",
   "language": "python",
   "name": "python3"
  },
  "language_info": {
   "codemirror_mode": {
    "name": "ipython",
    "version": 3
   },
   "file_extension": ".py",
   "mimetype": "text/x-python",
   "name": "python",
   "nbconvert_exporter": "python",
   "pygments_lexer": "ipython3",
   "version": "3.9.15"
  }
 },
 "nbformat": 4,
 "nbformat_minor": 5
}
