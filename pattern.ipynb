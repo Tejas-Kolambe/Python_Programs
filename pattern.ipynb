{
 "cells": [
  {
   "cell_type": "code",
   "execution_count": 10,
   "id": "c598b2f9",
   "metadata": {},
   "outputs": [
    {
     "name": "stdout",
     "output_type": "stream",
     "text": [
      "*\n",
      "  *\n",
      "***\n",
      "  ***\n",
      "*****\n",
      "  *****\n"
     ]
    }
   ],
   "source": [
    "n=5\n",
    "sp=n//2\n",
    "for i in range(1,n+1,2):\n",
    "    print(\"*\" * i)\n",
    "    print(' '*sp,'*'*i,sep='')\n",
    "    "
   ]
  },
  {
   "cell_type": "code",
   "execution_count": 40,
   "id": "cf7faf49",
   "metadata": {},
   "outputs": [
    {
     "name": "stdout",
     "output_type": "stream",
     "text": [
      "enter no. 10\n",
      "1010101010101010101\n",
      " 10101010101010101\n",
      "  101010101010101\n",
      "   1010101010101\n",
      "    10101010101\n",
      "     101010101\n",
      "      1010101\n",
      "       10101\n",
      "        101\n",
      "         1\n",
      "        101\n",
      "       10101\n",
      "      1010101\n",
      "     101010101\n",
      "    10101010101\n",
      "   1010101010101\n",
      "  101010101010101\n",
      " 10101010101010101\n",
      "1010101010101010101\n"
     ]
    }
   ],
   "source": [
    "n=int(input(\"enter no. \"))\n",
    "sp=0\n",
    "\n",
    "for i in range(n-1,-1,-1):\n",
    "    print(\" \"*sp,\"1\",\"01\"*i,sep='')\n",
    "    sp=sp+1\n",
    "gp=n-2\n",
    "for i in range(1,n,1):\n",
    "    print(\" \"*gp,\"1\",\"01\"*i,sep='')\n",
    "    gp=gp-1"
   ]
  },
  {
   "cell_type": "code",
   "execution_count": 40,
   "id": "143ee748",
   "metadata": {},
   "outputs": [
    {
     "name": "stdout",
     "output_type": "stream",
     "text": [
      "enter no. 10\n",
      "1010101010101010101\n",
      " 10101010101010101\n",
      "  101010101010101\n",
      "   1010101010101\n",
      "    10101010101\n",
      "     101010101\n",
      "      1010101\n",
      "       10101\n",
      "        101\n",
      "         1\n",
      "        101\n",
      "       10101\n",
      "      1010101\n",
      "     101010101\n",
      "    10101010101\n",
      "   1010101010101\n",
      "  101010101010101\n",
      " 10101010101010101\n",
      "1010101010101010101\n"
     ]
    }
   ],
   "source": [
    "n=int(input(\"enter no. \"))\n",
    "sp=0\n",
    "\n",
    "for i in range(n-1,-1,-1):\n",
    "    print(\" \"*sp,\"1\",\"01\"*i,sep='')\n",
    "    sp=sp+1\n",
    "gp=n-2\n",
    "for i in range(1,n,1):\n",
    "    print(\" \"*gp,\"1\",\"01\"*i,sep='')\n",
    "    gp=gp-1"
   ]
  },
  {
   "cell_type": "code",
   "execution_count": 28,
   "id": "5f809129",
   "metadata": {},
   "outputs": [
    {
     "name": "stdout",
     "output_type": "stream",
     "text": [
      "enter no. 10\n",
      "1010101010101010101\n",
      " 10101010101010101\n",
      "  101010101010101\n",
      "   1010101010101\n",
      "    10101010101\n",
      "     101010101\n",
      "      1010101\n",
      "       10101\n",
      "        101\n",
      "         1\n"
     ]
    }
   ],
   "source": [
    "n=int(input(\"enter no. \"))\n",
    "sp=0\n",
    "for i in range(n-1,-1,-1):\n",
    "    print(\" \"*sp,\"1\",\"01\"*i,sep='')\n",
    "    sp=sp+1"
   ]
  },
  {
   "cell_type": "markdown",
   "id": "275f7c54",
   "metadata": {},
   "source": [
    "size of datatype"
   ]
  },
  {
   "cell_type": "code",
   "execution_count": 59,
   "id": "e44252bb",
   "metadata": {},
   "outputs": [
    {
     "name": "stdout",
     "output_type": "stream",
     "text": [
      "2724116163408\n"
     ]
    }
   ],
   "source": [
    "import sys \n",
    "#integer\n",
    "n=1200\n",
    "sys.getsizeof(n)\n",
    "print(id(n))"
   ]
  },
  {
   "cell_type": "code",
   "execution_count": 57,
   "id": "8e3d880a",
   "metadata": {},
   "outputs": [
    {
     "data": {
      "text/plain": [
       "24"
      ]
     },
     "execution_count": 57,
     "metadata": {},
     "output_type": "execute_result"
    }
   ],
   "source": [
    " #float\n",
    "n=1200.5848\n",
    "sys.getsizeof(n)"
   ]
  },
  {
   "cell_type": "code",
   "execution_count": 47,
   "id": "c0c0bd74",
   "metadata": {},
   "outputs": [
    {
     "data": {
      "text/plain": [
       "57"
      ]
     },
     "execution_count": 47,
     "metadata": {},
     "output_type": "execute_result"
    }
   ],
   "source": [
    "#string\n",
    "n=\"abhishek\"\n",
    "sys.getsizeof(n)"
   ]
  },
  {
   "cell_type": "markdown",
   "id": "372ae7ea",
   "metadata": {},
   "source": [
    "Interning of int value"
   ]
  },
  {
   "cell_type": "code",
   "execution_count": 62,
   "id": "902639a4",
   "metadata": {},
   "outputs": [
    {
     "name": "stdout",
     "output_type": "stream",
     "text": [
      "id of i is 140720186233928\n",
      "id of j is 140720186233928\n",
      "id of i is 140720186234248\n",
      "id of j is 10 id of i is 20\n"
     ]
    }
   ],
   "source": [
    "i=10\n",
    "print(\"id of i is\",id(i))\n",
    "j=10\n",
    "print(\"id of j is\",id(j))\n",
    "i=20\n",
    "print(\"id of i is\",id(i))\n",
    "print(\"id of j is\",j, \"id of i is\",i)"
   ]
  },
  {
   "cell_type": "code",
   "execution_count": 63,
   "id": "e09e6a80",
   "metadata": {},
   "outputs": [
    {
     "name": "stdout",
     "output_type": "stream",
     "text": [
      "49\n"
     ]
    }
   ],
   "source": [
    "print(abs(-49))"
   ]
  },
  {
   "cell_type": "code",
   "execution_count": 64,
   "id": "5b491e4f",
   "metadata": {},
   "outputs": [
    {
     "data": {
      "text/plain": [
       "16"
      ]
     },
     "execution_count": 64,
     "metadata": {},
     "output_type": "execute_result"
    }
   ],
   "source": [
    "pow(4,2)"
   ]
  },
  {
   "cell_type": "code",
   "execution_count": 67,
   "id": "7261320d",
   "metadata": {},
   "outputs": [
    {
     "data": {
      "text/plain": [
       "False"
      ]
     },
     "execution_count": 67,
     "metadata": {},
     "output_type": "execute_result"
    }
   ],
   "source": [
    "bool(0)"
   ]
  },
  {
   "cell_type": "code",
   "execution_count": 70,
   "id": "be11678c",
   "metadata": {},
   "outputs": [
    {
     "name": "stdout",
     "output_type": "stream",
     "text": [
      "57133839564458545904789328652610540031895535786011264182548375833179829124845398393126574488675311145377107878746854204162666250198684504466355949195922066574942592095735778929325357290444962472405416790722118445437122269675520000000000000000000000000000000000000\n"
     ]
    }
   ],
   "source": [
    "import math\n",
    "print(math.factorial(150))"
   ]
  },
  {
   "cell_type": "code",
   "execution_count": 71,
   "id": "7d7616b1",
   "metadata": {},
   "outputs": [
    {
     "data": {
      "text/plain": [
       "(3+4j)"
      ]
     },
     "execution_count": 71,
     "metadata": {},
     "output_type": "execute_result"
    }
   ],
   "source": [
    " complex(3,4)"
   ]
  },
  {
   "cell_type": "code",
   "execution_count": null,
   "id": "e8ee2142",
   "metadata": {},
   "outputs": [],
   "source": []
  }
 ],
 "metadata": {
  "kernelspec": {
   "display_name": "Python 3 (ipykernel)",
   "language": "python",
   "name": "python3"
  },
  "language_info": {
   "codemirror_mode": {
    "name": "ipython",
    "version": 3
   },
   "file_extension": ".py",
   "mimetype": "text/x-python",
   "name": "python",
   "nbconvert_exporter": "python",
   "pygments_lexer": "ipython3",
   "version": "3.11.4"
  }
 },
 "nbformat": 4,
 "nbformat_minor": 5
}
