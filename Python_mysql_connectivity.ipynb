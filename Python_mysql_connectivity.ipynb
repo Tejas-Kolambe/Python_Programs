{
 "cells": [
  {
   "cell_type": "code",
   "execution_count": null,
   "id": "875d96d5",
   "metadata": {},
   "outputs": [],
   "source": [
    "import mysql.connector as mysql\n",
    "\n",
    "con = mysql.connect(host='localhost',user=\"root\",password=\"root123\",database=\"tejas\")\n",
    "if con.is_connected():\n",
    "    print(\"successfully connected\")\n",
    "\n",
    "cur = con.cursor()\n",
    "cur.execute(\"create database kk\")\n",
    "cur.execute(\"create table stud(roll_no int,subid varchar (10),marks int);\")\n",
    "con.commit()\n",
    "con.close()            "
   ]
  }
 ],
 "metadata": {
  "kernelspec": {
   "display_name": "Python 3 (ipykernel)",
   "language": "python",
   "name": "python3"
  },
  "language_info": {
   "codemirror_mode": {
    "name": "ipython",
    "version": 3
   },
   "file_extension": ".py",
   "mimetype": "text/x-python",
   "name": "python",
   "nbconvert_exporter": "python",
   "pygments_lexer": "ipython3",
   "version": "3.9.15"
  }
 },
 "nbformat": 4,
 "nbformat_minor": 5
}
