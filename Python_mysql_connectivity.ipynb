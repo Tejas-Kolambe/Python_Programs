import mysql.connector as mysql

con = mysql.connect(host='localhost',user="root",password="root123",database="tejas")
if con.is_connected():
    print("successfully connected")

cur = con.cursor()
cur.execute("create database kk")
cur.execute("create table stud(roll_no int,subid varchar (10),marks int);")
con.commit()
con.close()   
