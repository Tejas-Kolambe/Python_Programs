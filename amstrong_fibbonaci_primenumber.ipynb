{
 "cells": [
  {
   "cell_type": "code",
   "execution_count": 10,
   "id": "638faaa7",
   "metadata": {},
   "outputs": [
    {
     "name": "stdout",
     "output_type": "stream",
     "text": [
      "enter number 11\n",
      "     *\n",
      "    ***\n",
      "   *****\n",
      "  *******\n",
      " *********\n",
      "***********\n"
     ]
    }
   ],
   "source": [
    "n=int(input(\"enter number \"))\n",
    "sp=n//2\n",
    "for i in range(1,n+1,2):\n",
    "    print(' '*sp,'*'*i,sep='')\n",
    "    sp=sp-1\n",
    "\n"
   ]
  },
  {
   "cell_type": "code",
   "execution_count": 4,
   "id": "5439139b",
   "metadata": {},
   "outputs": [
    {
     "data": {
      "text/plain": [
       "2"
      ]
     },
     "execution_count": 4,
     "metadata": {},
     "output_type": "execute_result"
    }
   ],
   "source": [
    "5//2"
   ]
  },
  {
   "cell_type": "code",
   "execution_count": 56,
   "id": "bca4d4de",
   "metadata": {},
   "outputs": [],
   "source": [
    "class Employee():\n",
    "    def __init__ (self,name,salary,role):\n",
    "        self.nm=name\n",
    "        self.sl=salary\n",
    "        self.rl=role\n",
    "    def show(self):\n",
    "        print(self.nm,self.sl,self.rl)\n",
    "class Programmer(Employee):\n",
    "    pass"
   ]
  },
  {
   "cell_type": "code",
   "execution_count": 57,
   "id": "19bb488a",
   "metadata": {},
   "outputs": [],
   "source": [
    "ram = Employee(\"Ram\",12313,\"analyst\")"
   ]
  },
  {
   "cell_type": "code",
   "execution_count": 58,
   "id": "941abe4c",
   "metadata": {},
   "outputs": [
    {
     "name": "stdout",
     "output_type": "stream",
     "text": [
      "Ram 12313 analyst\n"
     ]
    }
   ],
   "source": [
    "ram.show()"
   ]
  },
  {
   "cell_type": "code",
   "execution_count": 62,
   "id": "93bc5b5b",
   "metadata": {},
   "outputs": [],
   "source": [
    "raj = Programmer(\"raj\",313,\"scientist\")"
   ]
  },
  {
   "cell_type": "code",
   "execution_count": 63,
   "id": "9b13ab35",
   "metadata": {},
   "outputs": [
    {
     "name": "stdout",
     "output_type": "stream",
     "text": [
      "raj 313 scientist\n"
     ]
    }
   ],
   "source": [
    "raj.show()"
   ]
  },
  {
   "cell_type": "code",
   "execution_count": 2,
   "id": "402a9ba7",
   "metadata": {},
   "outputs": [
    {
     "name": "stdout",
     "output_type": "stream",
     "text": [
      "enter a number 11\n",
      "No. is Prime\n"
     ]
    }
   ],
   "source": [
    "n = int(input(\"enter a number \"))\n",
    "\n",
    "if n<2:\n",
    "    print(\"Not a Prime\")\n",
    "else:\n",
    "    for i in range(2,n):\n",
    "        if n%i==0:\n",
    "            print(\"Not a Prime\")\n",
    "            break\n",
    "    else:\n",
    "        print(\"No. is Prime\")"
   ]
  },
  {
   "cell_type": "code",
   "execution_count": 4,
   "id": "cf7f7ce7",
   "metadata": {},
   "outputs": [
    {
     "name": "stdout",
     "output_type": "stream",
     "text": [
      "enter number 153\n",
      "153 is amstrong number\n"
     ]
    }
   ],
   "source": [
    "num = int(input(\"enter number \"))\n",
    "oldnum=num\n",
    "order=len(str(num))\n",
    "result=0\n",
    "while num!=0:\n",
    "    digit=num%10\n",
    "    result=result+digit**order\n",
    "    num=num//10\n",
    "\n",
    "if result==oldnum:\n",
    "    print(oldnum,\"is amstrong number\")\n",
    "else:\n",
    "    print(oldnum,\"is not a armstrong number\")"
   ]
  },
  {
   "cell_type": "code",
   "execution_count": 8,
   "id": "5b886589",
   "metadata": {},
   "outputs": [
    {
     "data": {
      "text/plain": [
       "4"
      ]
     },
     "execution_count": 8,
     "metadata": {},
     "output_type": "execute_result"
    }
   ],
   "source": [
    "d=3232\n",
    "len(str(d))"
   ]
  },
  {
   "cell_type": "code",
   "execution_count": 20,
   "id": "4f3ff4aa",
   "metadata": {},
   "outputs": [
    {
     "data": {
      "text/plain": [
       "1"
      ]
     },
     "execution_count": 20,
     "metadata": {},
     "output_type": "execute_result"
    }
   ],
   "source": [
    "len(str(0))"
   ]
  },
  {
   "cell_type": "code",
   "execution_count": 21,
   "id": "f2b094be",
   "metadata": {},
   "outputs": [
    {
     "data": {
      "text/plain": [
       "0"
      ]
     },
     "execution_count": 21,
     "metadata": {},
     "output_type": "execute_result"
    }
   ],
   "source": []
  },
  {
   "cell_type": "code",
   "execution_count": null,
   "id": "797ae3cf",
   "metadata": {},
   "outputs": [],
   "source": [
    "le"
   ]
  },
  {
   "cell_type": "code",
   "execution_count": 23,
   "id": "e6e0f23d",
   "metadata": {},
   "outputs": [
    {
     "data": {
      "text/plain": [
       "8"
      ]
     },
     "execution_count": 23,
     "metadata": {},
     "output_type": "execute_result"
    }
   ],
   "source": [
    "88//10"
   ]
  },
  {
   "cell_type": "code",
   "execution_count": 71,
   "id": "52b638d0",
   "metadata": {},
   "outputs": [
    {
     "name": "stdout",
     "output_type": "stream",
     "text": [
      "enter a number 11\n",
      "0\n",
      "1\n",
      "1\n",
      "2\n",
      "3\n",
      "5\n",
      "8\n",
      "13\n",
      "21\n",
      "34\n",
      "55\n"
     ]
    }
   ],
   "source": [
    "number=int(input(\"enter a number \"))\n",
    "\n",
    "if number<=0:\n",
    "    print(\"enter positive number\")\n",
    "elif number==1:\n",
    "    print(0)\n",
    "else:\n",
    "    a=0\n",
    "    b=1\n",
    "    for i in range(number):\n",
    "        print(a)\n",
    "        c=a+b\n",
    "        a=b\n",
    "        b=c"
   ]
  },
  {
   "cell_type": "code",
   "execution_count": null,
   "id": "105c6005",
   "metadata": {},
   "outputs": [],
   "source": []
  }
 ],
 "metadata": {
  "kernelspec": {
   "display_name": "Python 3 (ipykernel)",
   "language": "python",
   "name": "python3"
  },
  "language_info": {
   "codemirror_mode": {
    "name": "ipython",
    "version": 3
   },
   "file_extension": ".py",
   "mimetype": "text/x-python",
   "name": "python",
   "nbconvert_exporter": "python",
   "pygments_lexer": "ipython3",
   "version": "3.9.15"
  }
 },
 "nbformat": 4,
 "nbformat_minor": 5
}
