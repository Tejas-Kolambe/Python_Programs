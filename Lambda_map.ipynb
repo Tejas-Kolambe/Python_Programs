{
 "cells": [
  {
   "cell_type": "markdown",
   "id": "f5d75ffb",
   "metadata": {},
   "source": [
    "# Lambda and map Function Assignments"
   ]
  },
  {
   "cell_type": "code",
   "execution_count": 1,
   "id": "3add405f",
   "metadata": {},
   "outputs": [],
   "source": [
    "# Q1"
   ]
  },
  {
   "cell_type": "markdown",
   "id": "6e563dc8",
   "metadata": {},
   "source": [
    "\n",
    "Q Sort all the numbers in a list in descending order using lambda function\n"
   ]
  },
  {
   "cell_type": "code",
   "execution_count": 1,
   "id": "75e06f43",
   "metadata": {},
   "outputs": [],
   "source": [
    "list1=[12,34,2,5,88,43,4567,32,4,3]\n",
    "result=(lambda n:(sorted(n)))(list1)"
   ]
  },
  {
   "cell_type": "code",
   "execution_count": 2,
   "id": "feb6d8fd",
   "metadata": {},
   "outputs": [
    {
     "data": {
      "text/plain": [
       "[2, 3, 4, 5, 12, 32, 34, 43, 88, 4567]"
      ]
     },
     "execution_count": 2,
     "metadata": {},
     "output_type": "execute_result"
    }
   ],
   "source": [
    "result"
   ]
  },
  {
   "cell_type": "code",
   "execution_count": 3,
   "id": "0158825a",
   "metadata": {},
   "outputs": [],
   "source": [
    "# Q2"
   ]
  },
  {
   "cell_type": "code",
   "execution_count": null,
   "id": "eba03414",
   "metadata": {},
   "outputs": [],
   "source": [
    "Q Sort all the characters of given string using lambda function\n",
    "\n"
   ]
  },
  {
   "cell_type": "code",
   "execution_count": 9,
   "id": "4929bd44",
   "metadata": {},
   "outputs": [],
   "source": [
    "string='tejaskolambe'\n"
   ]
  },
  {
   "cell_type": "code",
   "execution_count": 12,
   "id": "7ed02b7f",
   "metadata": {},
   "outputs": [
    {
     "data": {
      "text/plain": [
       "'aabeejklmost'"
      ]
     },
     "execution_count": 12,
     "metadata": {},
     "output_type": "execute_result"
    }
   ],
   "source": [
    "result1=(lambda s:''.join(sorted(s)))(string)\n",
    "result1"
   ]
  },
  {
   "cell_type": "code",
   "execution_count": 14,
   "id": "02fd61c4",
   "metadata": {},
   "outputs": [],
   "source": [
    "# Q3"
   ]
  },
  {
   "cell_type": "markdown",
   "id": "0a3d8708",
   "metadata": {},
   "source": [
    "Q Given list of strings, sort all the strings by last character of that string. . Use lambda function and normal function both.\n",
    "\n"
   ]
  },
  {
   "cell_type": "code",
   "execution_count": 24,
   "id": "9dd387f8",
   "metadata": {},
   "outputs": [],
   "source": [
    "string_list=['how','are','you','what','are','you','doing','now']"
   ]
  },
  {
   "cell_type": "code",
   "execution_count": 37,
   "id": "be9293df",
   "metadata": {},
   "outputs": [],
   "source": [
    "def sec_char(str1):\n",
    "    return str1[-1][-1]"
   ]
  },
  {
   "cell_type": "code",
   "execution_count": 38,
   "id": "92e9e05e",
   "metadata": {},
   "outputs": [
    {
     "data": {
      "text/plain": [
       "'w'"
      ]
     },
     "execution_count": 38,
     "metadata": {},
     "output_type": "execute_result"
    }
   ],
   "source": [
    "sec_char(string_list)"
   ]
  },
  {
   "cell_type": "code",
   "execution_count": 53,
   "id": "adf1546c",
   "metadata": {},
   "outputs": [
    {
     "name": "stdout",
     "output_type": "stream",
     "text": [
      "['are', 'are', 'doing', 'what', 'you', 'you', 'how', 'now']\n"
     ]
    }
   ],
   "source": [
    "print(sorted(string_list,key=sec_char))"
   ]
  },
  {
   "cell_type": "code",
   "execution_count": 47,
   "id": "068555e6",
   "metadata": {},
   "outputs": [],
   "source": [
    "# res=(lambda str11: str11[-1])(string_list)"
   ]
  },
  {
   "cell_type": "code",
   "execution_count": 93,
   "id": "841dccb7",
   "metadata": {},
   "outputs": [
    {
     "name": "stdout",
     "output_type": "stream",
     "text": [
      "['are', 'are', 'doing', 'what', 'you', 'you', 'how', 'now']\n"
     ]
    }
   ],
   "source": [
    "print(sorted(string_list,key=lambda str11: str11[-1]))"
   ]
  },
  {
   "cell_type": "code",
   "execution_count": null,
   "id": "11cca2c1",
   "metadata": {},
   "outputs": [],
   "source": []
  },
  {
   "cell_type": "code",
   "execution_count": 40,
   "id": "0ba608a3",
   "metadata": {},
   "outputs": [],
   "source": [
    "# Q4"
   ]
  },
  {
   "cell_type": "markdown",
   "id": "89290766",
   "metadata": {},
   "source": [
    "Q Given list of employees. This list may contain repetitions. Find all unique employee names and print them as per order of second character in that name. Use lambda function and normal function both.\n",
    "\n"
   ]
  },
  {
   "cell_type": "code",
   "execution_count": 54,
   "id": "6ee4e021",
   "metadata": {},
   "outputs": [],
   "source": [
    "emp=['Tejas','omkar','vivek','Tejas','shivam','omkar','viraj','purven']"
   ]
  },
  {
   "cell_type": "code",
   "execution_count": 71,
   "id": "17f68265",
   "metadata": {},
   "outputs": [
    {
     "data": {
      "text/plain": [
       "{'Tejas', 'omkar', 'purven', 'shivam', 'viraj', 'vivek'}"
      ]
     },
     "execution_count": 71,
     "metadata": {},
     "output_type": "execute_result"
    }
   ],
   "source": [
    "emp=set(emp)\n",
    "emp"
   ]
  },
  {
   "cell_type": "code",
   "execution_count": 72,
   "id": "7d55ed2c",
   "metadata": {},
   "outputs": [
    {
     "data": {
      "text/plain": [
       "['omkar', 'shivam', 'viraj', 'Tejas', 'vivek', 'purven']"
      ]
     },
     "execution_count": 72,
     "metadata": {},
     "output_type": "execute_result"
    }
   ],
   "source": [
    "emp=list(emp)\n",
    "emp"
   ]
  },
  {
   "cell_type": "code",
   "execution_count": 73,
   "id": "094d29fa",
   "metadata": {},
   "outputs": [],
   "source": [
    "def chara(empname):\n",
    "    return empname[1]"
   ]
  },
  {
   "cell_type": "code",
   "execution_count": 74,
   "id": "b6ded512",
   "metadata": {},
   "outputs": [
    {
     "name": "stdout",
     "output_type": "stream",
     "text": [
      "['Tejas', 'shivam', 'viraj', 'vivek', 'omkar', 'purven']\n"
     ]
    }
   ],
   "source": [
    "print(sorted(emp,key=chara))"
   ]
  },
  {
   "cell_type": "code",
   "execution_count": 92,
   "id": "dffc356f",
   "metadata": {
    "scrolled": true
   },
   "outputs": [
    {
     "name": "stdout",
     "output_type": "stream",
     "text": [
      "['Tejas', 'shivam', 'viraj', 'vivek', 'omkar', 'purven']\n"
     ]
    }
   ],
   "source": [
    "print(sorted(emp,key=lambda nm:nm[1]))"
   ]
  },
  {
   "cell_type": "code",
   "execution_count": 76,
   "id": "0907b7cf",
   "metadata": {},
   "outputs": [],
   "source": [
    "# Q5"
   ]
  },
  {
   "cell_type": "markdown",
   "id": "b8402d55",
   "metadata": {},
   "source": [
    "Q. Take Employee id and Employee name of 5 employees from user. Store it in dictionary. Print all employees in increasing order of employee Id . Also print all employees in alphabetical order by name.\n"
   ]
  },
  {
   "cell_type": "code",
   "execution_count": 46,
   "id": "87b94db2",
   "metadata": {
    "scrolled": true
   },
   "outputs": [],
   "source": [
    "# dictionary_emp={}\n",
    "# for i in range(5):\n",
    "#     empid=int(input(\"Enter empid \"))\n",
    "#     ename=input('Enter employee name ')\n",
    "#     dictionary_emp.update({empid:ename})"
   ]
  },
  {
   "cell_type": "code",
   "execution_count": 13,
   "id": "60660d0b",
   "metadata": {},
   "outputs": [],
   "source": [
    "def emp_details(n):\n",
    "    dictionary_emp={}\n",
    "    for i in range(n):\n",
    "        empid=int(input(\"Enter empid \"))\n",
    "        ename=input('Enter employee name ')\n",
    "        dictionary_emp.update({empid:ename})\n",
    "    sorted(dictionary_emp.keys())\n",
    "    sorted(dictionary_emp.values())\n",
    "    return dictionary_emp"
   ]
  },
  {
   "cell_type": "code",
   "execution_count": 14,
   "id": "2603d1bf",
   "metadata": {
    "scrolled": true
   },
   "outputs": [
    {
     "name": "stdout",
     "output_type": "stream",
     "text": [
      "Enter empid 4\n",
      "Enter employee name ttt\n",
      "Enter empid 5\n",
      "Enter employee name aaa\n",
      "Enter empid 1\n",
      "Enter employee name zzz\n",
      "Enter empid 6\n",
      "Enter employee name hg\n",
      "Enter empid 9\n",
      "Enter employee name jhg\n"
     ]
    },
    {
     "data": {
      "text/plain": [
       "{4: 'ttt', 5: 'aaa', 1: 'zzz', 6: 'hg', 9: 'jhg'}"
      ]
     },
     "execution_count": 14,
     "metadata": {},
     "output_type": "execute_result"
    }
   ],
   "source": [
    "emp_details(5)"
   ]
  },
  {
   "cell_type": "code",
   "execution_count": 1,
   "id": "f6afad93",
   "metadata": {},
   "outputs": [],
   "source": [
    "# Q6\n"
   ]
  },
  {
   "cell_type": "markdown",
   "id": "d1cabedf",
   "metadata": {},
   "source": [
    "\n",
    "Q. Take comma separated numbers as input from the user. Split it in list of strings. Now convert every string in this list to float using map function\n",
    "\n"
   ]
  },
  {
   "cell_type": "code",
   "execution_count": 6,
   "id": "295154bd",
   "metadata": {},
   "outputs": [
    {
     "name": "stdout",
     "output_type": "stream",
     "text": [
      "enter number in comma separated 4,6,4,98,5,4,54,64\n",
      "[4.0, 6.0, 4.0, 98.0, 5.0, 4.0, 54.0, 64.0]\n"
     ]
    }
   ],
   "source": [
    "num=input(\"enter number in comma separated \")\n",
    "num=num.split(',')\n",
    "result=list(map(float,num))\n",
    "print(result)"
   ]
  },
  {
   "cell_type": "code",
   "execution_count": 7,
   "id": "b2716765",
   "metadata": {},
   "outputs": [],
   "source": [
    "#Q7"
   ]
  },
  {
   "cell_type": "markdown",
   "id": "ce56236c",
   "metadata": {},
   "source": [
    "Q Given list of floating point numbers. Convert every number into string and then join all the numbers such that they are separated by pipe(|)\n"
   ]
  },
  {
   "cell_type": "code",
   "execution_count": 9,
   "id": "e11b4194",
   "metadata": {},
   "outputs": [],
   "source": [
    "floating=[4.0,6.0,4.0,98.0,5.0,54.0,64.0]"
   ]
  },
  {
   "cell_type": "code",
   "execution_count": 13,
   "id": "b5c32409",
   "metadata": {},
   "outputs": [
    {
     "name": "stdout",
     "output_type": "stream",
     "text": [
      "['4.0', '6.0', '4.0', '98.0', '5.0', '54.0', '64.0']\n",
      "4.0|6.0|4.0|98.0|5.0|54.0|64.0\n"
     ]
    }
   ],
   "source": [
    "conversion=list(map(str,floating))\n",
    "print(conversion)\n",
    "result='|'.join(conversion)\n",
    "print(result)"
   ]
  },
  {
   "cell_type": "code",
   "execution_count": 14,
   "id": "af9b3435",
   "metadata": {},
   "outputs": [],
   "source": [
    "# Q8\n"
   ]
  },
  {
   "cell_type": "markdown",
   "id": "8375e5a5",
   "metadata": {},
   "source": [
    "\n",
    "Q Given list of integers. Use map function to calculate square of all and store in list. Then print sum of all square values.\n"
   ]
  },
  {
   "cell_type": "code",
   "execution_count": 20,
   "id": "43a34add",
   "metadata": {},
   "outputs": [],
   "source": [
    "number=[12,34,54,11,22,34,25,2,13]"
   ]
  },
  {
   "cell_type": "code",
   "execution_count": 21,
   "id": "1d411077",
   "metadata": {},
   "outputs": [],
   "source": [
    "# def sq(num):\n",
    "#     return num**2"
   ]
  },
  {
   "cell_type": "code",
   "execution_count": 36,
   "id": "3c7b8047",
   "metadata": {},
   "outputs": [],
   "source": [
    "# sqa=(lambda num:num**2)"
   ]
  },
  {
   "cell_type": "code",
   "execution_count": 43,
   "id": "752d1429",
   "metadata": {},
   "outputs": [],
   "source": [
    "# result=list(map(sqa,number))"
   ]
  },
  {
   "cell_type": "code",
   "execution_count": 44,
   "id": "c9e1ce59",
   "metadata": {},
   "outputs": [],
   "source": [
    "result=list(map((lambda num:num**2),number))"
   ]
  },
  {
   "cell_type": "code",
   "execution_count": 45,
   "id": "48b06e7a",
   "metadata": {},
   "outputs": [
    {
     "data": {
      "text/plain": [
       "[144, 1156, 2916, 121, 484, 1156, 625, 4, 169]"
      ]
     },
     "execution_count": 45,
     "metadata": {},
     "output_type": "execute_result"
    }
   ],
   "source": [
    "result"
   ]
  },
  {
   "cell_type": "code",
   "execution_count": null,
   "id": "2919c337",
   "metadata": {},
   "outputs": [],
   "source": []
  },
  {
   "cell_type": "code",
   "execution_count": null,
   "id": "9a082468",
   "metadata": {},
   "outputs": [],
   "source": []
  }
 ],
 "metadata": {
  "kernelspec": {
   "display_name": "Python 3 (ipykernel)",
   "language": "python",
   "name": "python3"
  },
  "language_info": {
   "codemirror_mode": {
    "name": "ipython",
    "version": 3
   },
   "file_extension": ".py",
   "mimetype": "text/x-python",
   "name": "python",
   "nbconvert_exporter": "python",
   "pygments_lexer": "ipython3",
   "version": "3.9.15"
  }
 },
 "nbformat": 4,
 "nbformat_minor": 5
}
