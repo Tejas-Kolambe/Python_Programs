{
 "cells": [
  {
   "cell_type": "code",
   "execution_count": 2,
   "id": "b1d87446",
   "metadata": {},
   "outputs": [
    {
     "data": {
      "text/plain": [
       "'zip'"
      ]
     },
     "execution_count": 2,
     "metadata": {},
     "output_type": "execute_result"
    }
   ],
   "source": [
    "str1 = \"RakeshzipPetabb\"\n",
    "str1[6:9]"
   ]
  },
  {
   "cell_type": "code",
   "execution_count": 3,
   "id": "b1b49da0",
   "metadata": {},
   "outputs": [
    {
     "data": {
      "text/plain": [
       "'bon'"
      ]
     },
     "execution_count": 3,
     "metadata": {},
     "output_type": "execute_result"
    }
   ],
   "source": [
    "str2 = \"JazzbonAyxx\"\n",
    "str2[4:7]"
   ]
  },
  {
   "cell_type": "code",
   "execution_count": 4,
   "id": "efd5761e",
   "metadata": {},
   "outputs": [],
   "source": [
    "s1 = \"Ault\"\n",
    "s2 = \"Kelly\""
   ]
  },
  {
   "cell_type": "code",
   "execution_count": 5,
   "id": "98429615",
   "metadata": {},
   "outputs": [
    {
     "data": {
      "text/plain": [
       "'AuKellylt'"
      ]
     },
     "execution_count": 5,
     "metadata": {},
     "output_type": "execute_result"
    }
   ],
   "source": [
    "s1[0:2]+s2[:]+s1[2:]"
   ]
  },
  {
   "cell_type": "code",
   "execution_count": 6,
   "id": "2c348e0b",
   "metadata": {},
   "outputs": [],
   "source": [
    "s1 = \"America\"\n",
    "s2 = \"Japan\""
   ]
  },
  {
   "cell_type": "code",
   "execution_count": 7,
   "id": "1c0e46d5",
   "metadata": {},
   "outputs": [
    {
     "data": {
      "text/plain": [
       "'AJrpan'"
      ]
     },
     "execution_count": 7,
     "metadata": {},
     "output_type": "execute_result"
    }
   ],
   "source": [
    "s1[0]+s2[0]+s1[3]+s2[2:]"
   ]
  },
  {
   "cell_type": "code",
   "execution_count": null,
   "id": "fcf5a34b",
   "metadata": {},
   "outputs": [],
   "source": [
    "st=input(\"enter string \")\n",
    "for i in st:\n",
    "    if "
   ]
  },
  {
   "cell_type": "code",
   "execution_count": 13,
   "id": "02a8f565",
   "metadata": {},
   "outputs": [
    {
     "data": {
      "text/plain": [
       "'Tejas'"
      ]
     },
     "execution_count": 13,
     "metadata": {},
     "output_type": "execute_result"
    }
   ],
   "source": [
    "n = \"Tejas\"\n",
    "type(n)\n",
    "n.upper()"
   ]
  },
  {
   "cell_type": "code",
   "execution_count": 60,
   "id": "b496a9b9",
   "metadata": {},
   "outputs": [
    {
     "name": "stdout",
     "output_type": "stream",
     "text": [
      "AzbycX"
     ]
    }
   ],
   "source": [
    "s1 = \"Abc\"\n",
    "s2 = \"Xyz\"\n",
    "s2 = s2[::-1]\n",
    "\n",
    "# d = s1[0]+s2[0]+s1[1]+s2[1]+s1[2]+s2[2]\n",
    "\n",
    "for i in range(0,3):\n",
    "    print(s1[i]+s2[i],end=\"\")"
   ]
  },
  {
   "cell_type": "code",
   "execution_count": 9,
   "id": "b487fe94",
   "metadata": {},
   "outputs": [
    {
     "data": {
      "text/plain": [
       "2"
      ]
     },
     "execution_count": 9,
     "metadata": {},
     "output_type": "execute_result"
    }
   ],
   "source": [
    "str11 = \"Welcome to USA. usa awesome, isn't it?\"\n",
    "str11.lower().count('usa')\n"
   ]
  },
  {
   "cell_type": "code",
   "execution_count": 91,
   "id": "942ab9e3",
   "metadata": {},
   "outputs": [
    {
     "data": {
      "text/plain": [
       "1"
      ]
     },
     "execution_count": 91,
     "metadata": {},
     "output_type": "execute_result"
    }
   ],
   "source": [
    "string='01111'\n",
    "substring='11'\n",
    "string.count(substring)  \n",
    "\n",
    "String='ANANAAAANNN'\n",
    "Substring='ANA'\n",
    "String.count(Substring)"
   ]
  },
  {
   "cell_type": "code",
   "execution_count": 58,
   "id": "74161f4b",
   "metadata": {},
   "outputs": [],
   "source": [
    "import math"
   ]
  },
  {
   "cell_type": "code",
   "execution_count": 83,
   "id": "32a91c83",
   "metadata": {},
   "outputs": [
    {
     "name": "stdout",
     "output_type": "stream",
     "text": [
      "Enter in empname:id format - Tejas:25\n",
      "a\n",
      "e\n",
      "id is a perfect square\n"
     ]
    }
   ],
   "source": [
    "a=['a','e','i','o','u']\n",
    "emp=input('Enter in empname:id format - ') \n",
    "empid=int(emp[-2:])\n",
    "if math.sqrt(empid)==math.floor(math.sqrt(empid)):\n",
    "    for i in range(len(a)):\n",
    "        if a[i] in emp:\n",
    "            print(a[i])\n",
    "    print(\"id is a perfect square\")    \n",
    "else:\n",
    "    print('id is not perfecct square')"
   ]
  },
  {
   "cell_type": "code",
   "execution_count": 63,
   "id": "b22f633f",
   "metadata": {},
   "outputs": [
    {
     "data": {
      "text/plain": [
       "3"
      ]
     },
     "execution_count": 63,
     "metadata": {},
     "output_type": "execute_result"
    }
   ],
   "source": [
    "math.floor(math.sqrt(empid))"
   ]
  },
  {
   "cell_type": "code",
   "execution_count": 72,
   "id": "1feb073c",
   "metadata": {},
   "outputs": [
    {
     "name": "stdout",
     "output_type": "stream",
     "text": [
      "a\n",
      "e\n"
     ]
    }
   ],
   "source": [
    "a=['a','e','i','o','u']\n",
    "for i in range(len(a)):\n",
    "    if a[i] in emp:\n",
    "        print(a[i])"
   ]
  },
  {
   "cell_type": "code",
   "execution_count": 70,
   "id": "1140408d",
   "metadata": {},
   "outputs": [
    {
     "data": {
      "text/plain": [
       "True"
      ]
     },
     "execution_count": 70,
     "metadata": {},
     "output_type": "execute_result"
    }
   ],
   "source": [
    "a[0] in emp"
   ]
  },
  {
   "cell_type": "code",
   "execution_count": 84,
   "id": "61148ebf",
   "metadata": {},
   "outputs": [],
   "source": [
    "Input='this is a good number 9089786756 and 8900000000 is a desired number'"
   ]
  },
  {
   "cell_type": "code",
   "execution_count": 109,
   "id": "c0d4b1d1",
   "metadata": {},
   "outputs": [
    {
     "data": {
      "text/plain": [
       "'9089786756'"
      ]
     },
     "execution_count": 109,
     "metadata": {},
     "output_type": "execute_result"
    }
   ],
   "source": [
    "Input[22:32]"
   ]
  },
  {
   "cell_type": "code",
   "execution_count": null,
   "id": "26a50715",
   "metadata": {},
   "outputs": [],
   "source": [
    "for i in range(len(Input)):\n",
    "    if Input[i]=="
   ]
  },
  {
   "cell_type": "code",
   "execution_count": 122,
   "id": "3ce6a510",
   "metadata": {},
   "outputs": [
    {
     "name": "stdout",
     "output_type": "stream",
     "text": [
      "Normal Sentence  1\n",
      "Inntorogative  1\n",
      "Exclametory  1\n"
     ]
    }
   ],
   "source": [
    "msg='I am at CDAC. What about you? I am surprised by current weather!'\n",
    "count=0\n",
    "for i in range(len(msg)):\n",
    "    if msg[i]=='.':\n",
    "        count+=1\n",
    "        print('Normal Sentence ',count)\n",
    "        count=0\n",
    "    elif msg[i]=='?':\n",
    "        count+=1\n",
    "        print('Inntorogative ',count)\n",
    "        count=0\n",
    "    elif msg[i]=='!':\n",
    "        count+=1\n",
    "        print('Exclametory ',count)"
   ]
  },
  {
   "cell_type": "code",
   "execution_count": 133,
   "id": "6f4fbe84",
   "metadata": {},
   "outputs": [
    {
     "name": "stdout",
     "output_type": "stream",
     "text": [
      "ABCD \n",
      " EFGH\n"
     ]
    }
   ],
   "source": [
    "string='ABCDEFGHIJKLIMNOQRSTUVWXYZ'\n",
    "print(string[:4],'\\n',string[4:8])"
   ]
  },
  {
   "cell_type": "code",
   "execution_count": 138,
   "id": "04ba48dc",
   "metadata": {},
   "outputs": [
    {
     "data": {
      "text/plain": [
       "6"
      ]
     },
     "execution_count": 138,
     "metadata": {},
     "output_type": "execute_result"
    }
   ],
   "source": [
    "math.floor(len(string)/4)"
   ]
  },
  {
   "cell_type": "code",
   "execution_count": 143,
   "id": "1a46f2aa",
   "metadata": {},
   "outputs": [
    {
     "name": "stdout",
     "output_type": "stream",
     "text": [
      "ABCD\n",
      "EFGHIJKL\n",
      "IMNOQRSTUVWXYZ\n",
      "\n",
      "\n",
      "\n"
     ]
    }
   ],
   "source": [
    "j=0\n",
    "f=4\n",
    "for i in range(math.floor(len(string)/4)):\n",
    "    print(string[j:f])\n",
    "    j+=j+4\n",
    "    f+=f+4"
   ]
  },
  {
   "cell_type": "code",
   "execution_count": null,
   "id": "41875fc4",
   "metadata": {},
   "outputs": [],
   "source": []
  }
 ],
 "metadata": {
  "kernelspec": {
   "display_name": "Python 3 (ipykernel)",
   "language": "python",
   "name": "python3"
  },
  "language_info": {
   "codemirror_mode": {
    "name": "ipython",
    "version": 3
   },
   "file_extension": ".py",
   "mimetype": "text/x-python",
   "name": "python",
   "nbconvert_exporter": "python",
   "pygments_lexer": "ipython3",
   "version": "3.9.15"
  }
 },
 "nbformat": 4,
 "nbformat_minor": 5
}
