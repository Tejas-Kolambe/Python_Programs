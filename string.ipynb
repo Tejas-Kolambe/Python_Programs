{
 "cells": [
  {
   "cell_type": "code",
   "execution_count": 2,
   "id": "b1d87446",
   "metadata": {},
   "outputs": [
    {
     "data": {
      "text/plain": [
       "'zip'"
      ]
     },
     "execution_count": 2,
     "metadata": {},
     "output_type": "execute_result"
    }
   ],
   "source": [
    "str1 = \"RakeshzipPetabb\"\n",
    "str1[6:9]"
   ]
  },
  {
   "cell_type": "code",
   "execution_count": 3,
   "id": "b1b49da0",
   "metadata": {},
   "outputs": [
    {
     "data": {
      "text/plain": [
       "'bon'"
      ]
     },
     "execution_count": 3,
     "metadata": {},
     "output_type": "execute_result"
    }
   ],
   "source": [
    "str2 = \"JazzbonAyxx\"\n",
    "str2[4:7]"
   ]
  },
  {
   "cell_type": "code",
   "execution_count": 4,
   "id": "efd5761e",
   "metadata": {},
   "outputs": [],
   "source": [
    "s1 = \"Ault\"\n",
    "s2 = \"Kelly\""
   ]
  },
  {
   "cell_type": "code",
   "execution_count": 5,
   "id": "98429615",
   "metadata": {},
   "outputs": [
    {
     "data": {
      "text/plain": [
       "'AuKellylt'"
      ]
     },
     "execution_count": 5,
     "metadata": {},
     "output_type": "execute_result"
    }
   ],
   "source": [
    "s1[0:2]+s2[:]+s1[2:]"
   ]
  },
  {
   "cell_type": "code",
   "execution_count": 6,
   "id": "2c348e0b",
   "metadata": {},
   "outputs": [],
   "source": [
    "s1 = \"America\"\n",
    "s2 = \"Japan\""
   ]
  },
  {
   "cell_type": "code",
   "execution_count": 7,
   "id": "1c0e46d5",
   "metadata": {},
   "outputs": [
    {
     "data": {
      "text/plain": [
       "'AJrpan'"
      ]
     },
     "execution_count": 7,
     "metadata": {},
     "output_type": "execute_result"
    }
   ],
   "source": [
    "s1[0]+s2[0]+s1[3]+s2[2:]"
   ]
  },
  {
   "cell_type": "code",
   "execution_count": null,
   "id": "fcf5a34b",
   "metadata": {},
   "outputs": [],
   "source": [
    "st=input(\"enter string \")\n",
    "for i in st:\n",
    "    if "
   ]
  },
  {
   "cell_type": "code",
   "execution_count": 13,
   "id": "02a8f565",
   "metadata": {},
   "outputs": [
    {
     "data": {
      "text/plain": [
       "'Tejas'"
      ]
     },
     "execution_count": 13,
     "metadata": {},
     "output_type": "execute_result"
    }
   ],
   "source": [
    "n = \"Tejas\"\n",
    "type(n)\n",
    "n.upper()"
   ]
  },
  {
   "cell_type": "code",
   "execution_count": 60,
   "id": "b496a9b9",
   "metadata": {},
   "outputs": [
    {
     "name": "stdout",
     "output_type": "stream",
     "text": [
      "AzbycX"
     ]
    }
   ],
   "source": [
    "s1 = \"Abc\"\n",
    "s2 = \"Xyz\"\n",
    "s2 = s2[::-1]\n",
    "\n",
    "# d = s1[0]+s2[0]+s1[1]+s2[1]+s1[2]+s2[2]\n",
    "\n",
    "for i in range(0,3):\n",
    "    print(s1[i]+s2[i],end=\"\")"
   ]
  },
  {
   "cell_type": "code",
   "execution_count": 79,
   "id": "b487fe94",
   "metadata": {},
   "outputs": [
    {
     "name": "stdout",
     "output_type": "stream",
     "text": [
      "-1\n",
      "-1\n",
      "-1\n",
      "-1\n",
      "-1\n",
      "-1\n",
      "-1\n",
      "-1\n",
      "-1\n",
      "-1\n",
      "-1\n",
      "-1\n",
      "-1\n",
      "-1\n",
      "-1\n",
      "-1\n",
      "-1\n",
      "-1\n",
      "-1\n",
      "-1\n",
      "-1\n",
      "-1\n",
      "-1\n",
      "-1\n",
      "-1\n",
      "-1\n",
      "-1\n",
      "-1\n",
      "-1\n",
      "-1\n",
      "-1\n",
      "-1\n",
      "-1\n",
      "-1\n",
      "-1\n",
      "-1\n",
      "-1\n",
      "-1\n"
     ]
    }
   ],
   "source": [
    "str11 = \"Welcome to USA. usa awesome, isn't it?\"\n",
    "for i in range(len(str11)):\n",
    "        print(str11[i].rfind())"
   ]
  },
  {
   "cell_type": "code",
   "execution_count": 72,
   "id": "942ab9e3",
   "metadata": {},
   "outputs": [
    {
     "data": {
      "text/plain": [
       "'?'"
      ]
     },
     "execution_count": 72,
     "metadata": {},
     "output_type": "execute_result"
    }
   ],
   "source": []
  },
  {
   "cell_type": "code",
   "execution_count": null,
   "id": "32a91c83",
   "metadata": {},
   "outputs": [],
   "source": []
  }
 ],
 "metadata": {
  "kernelspec": {
   "display_name": "Python 3 (ipykernel)",
   "language": "python",
   "name": "python3"
  },
  "language_info": {
   "codemirror_mode": {
    "name": "ipython",
    "version": 3
   },
   "file_extension": ".py",
   "mimetype": "text/x-python",
   "name": "python",
   "nbconvert_exporter": "python",
   "pygments_lexer": "ipython3",
   "version": "3.9.15"
  }
 },
 "nbformat": 4,
 "nbformat_minor": 5
}
